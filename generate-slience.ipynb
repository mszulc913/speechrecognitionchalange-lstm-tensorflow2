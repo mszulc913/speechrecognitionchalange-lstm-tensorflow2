{
 "cells": [
  {
   "cell_type": "code",
   "execution_count": 4,
   "metadata": {},
   "outputs": [],
   "source": [
    "from pathlib import Path\n",
    "\n",
    "import numpy as np\n",
    "\n",
    "from pydub import AudioSegment\n",
    "\n",
    "DATA_PATH = Path('data-kaggle')\n",
    "DATA_TRAIN_PATH = DATA_PATH / 'train'\n",
    "DATA_TEST_PATH = DATA_PATH / 'test'\n",
    "BG_FILES = list(DATA_TRAIN_PATH.glob('audio/_background_noise_/*.wav'))\n",
    "\n",
    "SAMPLE_RATE = 16000\n",
    "\n",
    "\n",
    "def generate_silence(n, path):\n",
    "    \"\"\"Generated n samples of silence from background noises with random crop and volue.\n",
    "    Combines up to 2 random samples from background noises.\"\"\"\n",
    "    for j in range(n):\n",
    "        choice = np.random.randint(1, 3)\n",
    "        \n",
    "        ## choose background noises to mix\n",
    "        chosen_bg_files = [BG_FILES[i] for i in np.random.randint(6, size=choice)]\n",
    "        \n",
    "        silence = AudioSegment.silent(duration=1000, frame_rate=SAMPLE_RATE)\n",
    "        \n",
    "        bg_files = [AudioSegment.from_wav(x) for x in chosen_bg_files]\n",
    "    \n",
    "        for bg_file in bg_files:\n",
    "            random_slice_idx = np.random.randint(0, bg_file.duration_seconds) * 1000\n",
    "            random_bg_slice = bg_file[random_slice_idx:random_slice_idx + 1000]\n",
    "            silence = silence.overlay(random_bg_slice + np.random.randint(-32 * choice, -15 * choice))\n",
    "    \n",
    "        file_path = str(path / f\"audio/silence/{j}_00_00.wav\")\n",
    "        silence.export(path / f\"audio/silence/{j}_00_00.wav\", format=\"wav\")\n",
    "        if np.random.random() < 0.3: \n",
    "            with open(DATA_TRAIN_PATH / \"testing_list.txt\", \"a\") as f:\n",
    "                f.write(f\"silence/{j}_00_00.wav\\n\")"
   ]
  },
  {
   "cell_type": "code",
   "execution_count": 5,
   "metadata": {},
   "outputs": [],
   "source": [
    "generate_silence(6000, DATA_TRAIN_PATH)"
   ]
  },
  {
   "cell_type": "code",
   "execution_count": null,
   "metadata": {},
   "outputs": [],
   "source": []
  },
  {
   "cell_type": "code",
   "execution_count": null,
   "metadata": {},
   "outputs": [],
   "source": []
  },
  {
   "cell_type": "code",
   "execution_count": null,
   "metadata": {},
   "outputs": [],
   "source": []
  }
 ],
 "metadata": {
  "kernelspec": {
   "display_name": "mgu-lstm",
   "language": "python",
   "name": "python3"
  },
  "language_info": {
   "codemirror_mode": {
    "name": "ipython",
    "version": 3
   },
   "file_extension": ".py",
   "mimetype": "text/x-python",
   "name": "python",
   "nbconvert_exporter": "python",
   "pygments_lexer": "ipython3",
   "version": "3.6.7"
  }
 },
 "nbformat": 4,
 "nbformat_minor": 2
}
